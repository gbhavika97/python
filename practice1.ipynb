{
  "nbformat": 4,
  "nbformat_minor": 0,
  "metadata": {
    "colab": {
      "provenance": [],
      "authorship_tag": "ABX9TyO6skgyl9SX6i1xW8QIcwU/",
      "include_colab_link": true
    },
    "kernelspec": {
      "name": "python3",
      "display_name": "Python 3"
    },
    "language_info": {
      "name": "python"
    }
  },
  "cells": [
    {
      "cell_type": "markdown",
      "metadata": {
        "id": "view-in-github",
        "colab_type": "text"
      },
      "source": [
        "<a href=\"https://colab.research.google.com/github/gbhavika97/python/blob/main/practice1.ipynb\" target=\"_parent\"><img src=\"https://colab.research.google.com/assets/colab-badge.svg\" alt=\"Open In Colab\"/></a>"
      ]
    },
    {
      "cell_type": "code",
      "execution_count": 4,
      "metadata": {
        "colab": {
          "base_uri": "https://localhost:8080/"
        },
        "id": "CuMZMeFyvGbp",
        "outputId": "59c06793-4f74-4765-b66a-d123f6ebb31d"
      },
      "outputs": [
        {
          "output_type": "stream",
          "name": "stdout",
          "text": [
            "olleh\n"
          ]
        }
      ],
      "source": [
        "#python function to reverse a string\n",
        "def reverse_string(s):\n",
        "  return s[::-1]\n",
        "\n",
        "s =\"hello\"\n",
        "print(reverse_string(s))"
      ]
    },
    {
      "cell_type": "code",
      "source": [
        "#python function to count the number of vowels in a string and return the count\n",
        "def count_vowels(s):\n",
        "  vowels = \"aeiouAEIOU\"\n",
        "  count = 0\n",
        "  for char in s:\n",
        "    if char in vowels:\n",
        "      count += 1\n",
        "  return count\n",
        "\n",
        "s = \"Hello World\"\n",
        "print(count_vowels(s))"
      ],
      "metadata": {
        "colab": {
          "base_uri": "https://localhost:8080/"
        },
        "id": "hhQV966bvU9Q",
        "outputId": "9b75cf31-7c8b-4387-ca1d-98a9170f00e4"
      },
      "execution_count": 1,
      "outputs": [
        {
          "output_type": "stream",
          "name": "stdout",
          "text": [
            "3\n"
          ]
        }
      ]
    },
    {
      "cell_type": "code",
      "source": [
        "#python function to check if the two strings are equal\n",
        "\n",
        "def are_equal_strings(s, t):\n",
        "  len_s = 0\n",
        "  len_t = 0\n",
        "\n",
        "  while len_s < len(s):\n",
        "    len_s += 1\n",
        "  while len_t < len(t):\n",
        "    len_t += 1\n",
        "  if len_s != len_t:\n",
        "    return False\n",
        "  for i in range(len_s):\n",
        "    if s[i] != t[i]:\n",
        "      return False\n",
        "  return True\n",
        "\n",
        "s = \"hello, hello\"\n",
        "t = \"Hello, hello\"\n",
        "print(are_equal_strings(s, t))"
      ],
      "metadata": {
        "colab": {
          "base_uri": "https://localhost:8080/"
        },
        "id": "I3T6azspw0dx",
        "outputId": "973118aa-9667-4cae-c7f7-f591696f6a45"
      },
      "execution_count": 2,
      "outputs": [
        {
          "output_type": "stream",
          "name": "stdout",
          "text": [
            "False\n"
          ]
        }
      ]
    },
    {
      "cell_type": "code",
      "source": [
        "#python function to count the words in a string\n",
        "\n",
        "def count_words(s):\n",
        "  words = s.split()\n",
        "  return len(words)\n",
        "\n",
        "s = \"Python is fun to learn\"\n",
        "print(count_words(s))"
      ],
      "metadata": {
        "colab": {
          "base_uri": "https://localhost:8080/"
        },
        "id": "3WGS06ify_cj",
        "outputId": "d5c667c5-b78d-4251-819a-cd60fb2dbc1b"
      },
      "execution_count": 3,
      "outputs": [
        {
          "output_type": "stream",
          "name": "stdout",
          "text": [
            "5\n"
          ]
        }
      ]
    }
  ]
}