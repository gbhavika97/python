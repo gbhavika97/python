{
  "nbformat": 4,
  "nbformat_minor": 0,
  "metadata": {
    "colab": {
      "provenance": [],
      "authorship_tag": "ABX9TyPAqNkIqh63fQhZmnjJu7po",
      "include_colab_link": true
    },
    "kernelspec": {
      "name": "python3",
      "display_name": "Python 3"
    },
    "language_info": {
      "name": "python"
    }
  },
  "cells": [
    {
      "cell_type": "markdown",
      "metadata": {
        "id": "view-in-github",
        "colab_type": "text"
      },
      "source": [
        "<a href=\"https://colab.research.google.com/github/gbhavika97/python/blob/main/practice1.ipynb\" target=\"_parent\"><img src=\"https://colab.research.google.com/assets/colab-badge.svg\" alt=\"Open In Colab\"/></a>"
      ]
    },
    {
      "cell_type": "code",
      "execution_count": null,
      "metadata": {
        "colab": {
          "base_uri": "https://localhost:8080/"
        },
        "id": "CuMZMeFyvGbp",
        "outputId": "59c06793-4f74-4765-b66a-d123f6ebb31d"
      },
      "outputs": [
        {
          "output_type": "stream",
          "name": "stdout",
          "text": [
            "olleh\n"
          ]
        }
      ],
      "source": [
        "#python function to reverse a string\n",
        "def reverse_string(s):\n",
        "  return s[::-1]\n",
        "\n",
        "s =\"hello\"\n",
        "print(reverse_string(s))"
      ]
    },
    {
      "cell_type": "code",
      "source": [
        "#python function to count the number of vowels in a string and return the count\n",
        "def count_vowels(s):\n",
        "  vowels = \"aeiouAEIOU\"\n",
        "  count = 0\n",
        "  for char in s:\n",
        "    if char in vowels:\n",
        "      count += 1\n",
        "  return count\n",
        "\n",
        "s = \"Hello World\"\n",
        "print(count_vowels(s))"
      ],
      "metadata": {
        "colab": {
          "base_uri": "https://localhost:8080/"
        },
        "id": "hhQV966bvU9Q",
        "outputId": "9b75cf31-7c8b-4387-ca1d-98a9170f00e4"
      },
      "execution_count": null,
      "outputs": [
        {
          "output_type": "stream",
          "name": "stdout",
          "text": [
            "3\n"
          ]
        }
      ]
    },
    {
      "cell_type": "code",
      "source": [
        "#python function to check if the two strings are equal\n",
        "\n",
        "def are_equal_strings(s, t):\n",
        "  len_s = 0\n",
        "  len_t = 0\n",
        "\n",
        "  while len_s < len(s):\n",
        "    len_s += 1\n",
        "  while len_t < len(t):\n",
        "    len_t += 1\n",
        "  if len_s != len_t:\n",
        "    return False\n",
        "  for i in range(len_s):\n",
        "    if s[i] != t[i]:\n",
        "      return False\n",
        "  return True\n",
        "\n",
        "s = \"hello, hello\"\n",
        "t = \"Hello, hello\"\n",
        "print(are_equal_strings(s, t))"
      ],
      "metadata": {
        "colab": {
          "base_uri": "https://localhost:8080/"
        },
        "id": "I3T6azspw0dx",
        "outputId": "973118aa-9667-4cae-c7f7-f591696f6a45"
      },
      "execution_count": null,
      "outputs": [
        {
          "output_type": "stream",
          "name": "stdout",
          "text": [
            "False\n"
          ]
        }
      ]
    },
    {
      "cell_type": "code",
      "source": [
        "#python function to count the words in a string\n",
        "\n",
        "def count_words(s):\n",
        "  words = s.split()\n",
        "  return len(words)\n",
        "\n",
        "s = \"Python is fun to learn\"\n",
        "print(count_words(s))"
      ],
      "metadata": {
        "colab": {
          "base_uri": "https://localhost:8080/"
        },
        "id": "3WGS06ify_cj",
        "outputId": "d5c667c5-b78d-4251-819a-cd60fb2dbc1b"
      },
      "execution_count": null,
      "outputs": [
        {
          "output_type": "stream",
          "name": "stdout",
          "text": [
            "5\n"
          ]
        }
      ]
    },
    {
      "cell_type": "code",
      "source": [
        "#Assign the value of 100 to the variable m.\n",
        "#With the help of the variable m, write one line of code where the output after execution would be 100 days.\n",
        "\n",
        "m = 100\n",
        "print(str(m), 'days')"
      ],
      "metadata": {
        "colab": {
          "base_uri": "https://localhost:8080/"
        },
        "id": "HzhHRmk7-RTn",
        "outputId": "65e09582-af31-4b96-a55e-0e1960ed2ee7"
      },
      "execution_count": 1,
      "outputs": [
        {
          "output_type": "stream",
          "name": "stdout",
          "text": [
            "100 days\n"
          ]
        }
      ]
    },
    {
      "cell_type": "code",
      "source": [
        "#Produce an output equal to It's cool, isn't it?\n",
        "\n",
        "print(\"It\\'s cool, isn\\'t it?\")\n"
      ],
      "metadata": {
        "colab": {
          "base_uri": "https://localhost:8080/"
        },
        "id": "Pz6_6PN8-dL_",
        "outputId": "3d70400a-a1f8-412d-a21d-ef7790ed083d"
      },
      "execution_count": 2,
      "outputs": [
        {
          "output_type": "stream",
          "name": "stdout",
          "text": [
            "It's cool, isn't it?\n"
          ]
        }
      ]
    },
    {
      "cell_type": "code",
      "source": [
        "#Fix the string below.\n",
        "#'Don't be shy\n",
        "\n",
        "print(\"Don\\'t be shy\")"
      ],
      "metadata": {
        "colab": {
          "base_uri": "https://localhost:8080/"
        },
        "id": "m_M6unlD-mdF",
        "outputId": "137d24a3-cec5-4d5a-c977-14efd6aaf6d3"
      },
      "execution_count": 3,
      "outputs": [
        {
          "output_type": "stream",
          "name": "stdout",
          "text": [
            "Don't be shy\n"
          ]
        }
      ]
    },
    {
      "cell_type": "code",
      "source": [
        "#Produce an output equal to Click \"OK\".\n",
        "\n",
        "print('Click \"OK\"')"
      ],
      "metadata": {
        "colab": {
          "base_uri": "https://localhost:8080/"
        },
        "id": "lLMqNcSv-xv3",
        "outputId": "84f0d094-3a09-4428-eaaf-10e4a25bd4a1"
      },
      "execution_count": 4,
      "outputs": [
        {
          "output_type": "stream",
          "name": "stdout",
          "text": [
            "Click \"OK\"\n"
          ]
        }
      ]
    },
    {
      "cell_type": "code",
      "source": [
        "#Include a trailing comma in your line of code to produce Big Houses.\n",
        "\n",
        "print('Big','Houses')"
      ],
      "metadata": {
        "colab": {
          "base_uri": "https://localhost:8080/"
        },
        "id": "L7qCN8Y3-6UP",
        "outputId": "ec75d204-5bf5-45d8-b926-f640c3057156"
      },
      "execution_count": 5,
      "outputs": [
        {
          "output_type": "stream",
          "name": "stdout",
          "text": [
            "Big Houses\n"
          ]
        }
      ]
    },
    {
      "cell_type": "code",
      "source": [
        "#Create a For loop that prints every digit on a new line.\n",
        "\n",
        "digits = [0,1,2,3,4,5,6,7,8,9]\n",
        "\n",
        "for i in digits:\n",
        "    print(i)"
      ],
      "metadata": {
        "colab": {
          "base_uri": "https://localhost:8080/"
        },
        "id": "e7YhLKaO_RB1",
        "outputId": "460b4a88-b999-4a16-e762-1e509c13f489"
      },
      "execution_count": 6,
      "outputs": [
        {
          "output_type": "stream",
          "name": "stdout",
          "text": [
            "0\n",
            "1\n",
            "2\n",
            "3\n",
            "4\n",
            "5\n",
            "6\n",
            "7\n",
            "8\n",
            "9\n"
          ]
        }
      ]
    },
    {
      "cell_type": "code",
      "source": [
        "#Adjust the code, so the digits are all printed on the same line.\n",
        "\n",
        "digits = [0,1,2,3,4,5,6,7,8,9]\n",
        "\n",
        "for d in digits:\n",
        "    print (d, end=\" \")"
      ],
      "metadata": {
        "colab": {
          "base_uri": "https://localhost:8080/"
        },
        "id": "eeExh89F_Yc3",
        "outputId": "fe643cd5-465b-4418-c586-b5feb56102a0"
      },
      "execution_count": 7,
      "outputs": [
        {
          "output_type": "stream",
          "name": "stdout",
          "text": [
            "0 1 2 3 4 5 6 7 8 9 "
          ]
        }
      ]
    },
    {
      "cell_type": "code",
      "source": [
        "#Create a while loop that will print all odd numbers from 0 to 30 on the same row.\n",
        "\n",
        "x = 1\n",
        "\n",
        "while x <= 30:\n",
        "    print(x, end=\" \")\n",
        "    x += 2"
      ],
      "metadata": {
        "colab": {
          "base_uri": "https://localhost:8080/"
        },
        "id": "fLkzln52_dhK",
        "outputId": "f4b986c0-9f12-4c9a-fba9-cbeb765650d3"
      },
      "execution_count": 8,
      "outputs": [
        {
          "output_type": "stream",
          "name": "stdout",
          "text": [
            "1 3 5 7 9 11 13 15 17 19 21 23 25 27 29 "
          ]
        }
      ]
    },
    {
      "cell_type": "code",
      "source": [
        "#Use the range() function to create a list with all numbers from 1 to 10.\n",
        "\n",
        "list(range(1,11))\n",
        "print(list(range(1,11)))"
      ],
      "metadata": {
        "colab": {
          "base_uri": "https://localhost:8080/"
        },
        "id": "UQnoJccm_loC",
        "outputId": "2ae4dfc3-c3d7-4669-d9a1-3a8431b750a6"
      },
      "execution_count": 9,
      "outputs": [
        {
          "output_type": "stream",
          "name": "stdout",
          "text": [
            "[1, 2, 3, 4, 5, 6, 7, 8, 9, 10]\n"
          ]
        }
      ]
    },
    {
      "cell_type": "code",
      "source": [
        "#Use the range() function to create a list with all numbers from 0 to 19.\n",
        "\n",
        "list(range(0,20))\n",
        "print(list(range(0,20)))"
      ],
      "metadata": {
        "colab": {
          "base_uri": "https://localhost:8080/"
        },
        "id": "vV-81SXR_zNM",
        "outputId": "b3ccd451-0c24-4de9-f310-cd86be809e04"
      },
      "execution_count": 10,
      "outputs": [
        {
          "output_type": "stream",
          "name": "stdout",
          "text": [
            "[0, 1, 2, 3, 4, 5, 6, 7, 8, 9, 10, 11, 12, 13, 14, 15, 16, 17, 18, 19]\n"
          ]
        }
      ]
    },
    {
      "cell_type": "code",
      "source": [
        "#Use the range() function to create a list with all even numbers from 0 to 30 included.\n",
        "\n",
        "list(range(0,31,2))\n",
        "print(list(range(0,31,2)))"
      ],
      "metadata": {
        "colab": {
          "base_uri": "https://localhost:8080/"
        },
        "id": "nBDzO8zM_8Ja",
        "outputId": "e8312b76-a09e-469b-862b-17e6b63172d0"
      },
      "execution_count": 11,
      "outputs": [
        {
          "output_type": "stream",
          "name": "stdout",
          "text": [
            "[0, 2, 4, 6, 8, 10, 12, 14, 16, 18, 20, 22, 24, 26, 28, 30]\n"
          ]
        }
      ]
    },
    {
      "cell_type": "code",
      "source": [
        "#Create a For loop that will print all the variables from a given list multiplied by 2. Let the list contain all numbers from 1 to 10. Create it with the help of the range() functio\n",
        "\n",
        "for i in range(1, 11):\n",
        "    print(2 * i)"
      ],
      "metadata": {
        "colab": {
          "base_uri": "https://localhost:8080/"
        },
        "id": "t0jqbR4iAEb0",
        "outputId": "ce02662b-21d4-43bc-8d96-7fc7320e4260"
      },
      "execution_count": 13,
      "outputs": [
        {
          "output_type": "stream",
          "name": "stdout",
          "text": [
            "2\n",
            "4\n",
            "6\n",
            "8\n",
            "10\n",
            "12\n",
            "14\n",
            "16\n",
            "18\n",
            "20\n"
          ]
        }
      ]
    },
    {
      "cell_type": "code",
      "source": [
        "#You are provided with the nums list. Define a function called count() containing a while loop to count the number of values in the nums list that are lower than 20.\n",
        "\n",
        "nums = [1,35,12,24,31,51,70,100]\n",
        "\n",
        "def count(nums):\n",
        "    total = 0\n",
        "    nums = sorted(nums)\n",
        "    while nums[total] < 20:\n",
        "            total += 1\n",
        "    return total\n",
        "\n",
        "print(count(nums))"
      ],
      "metadata": {
        "colab": {
          "base_uri": "https://localhost:8080/"
        },
        "id": "gcONCZYXAciG",
        "outputId": "c2e5373d-96b1-468d-b27f-48c4a0cbc8d6"
      },
      "execution_count": 17,
      "outputs": [
        {
          "output_type": "stream",
          "name": "stdout",
          "text": [
            "2\n"
          ]
        }
      ]
    },
    {
      "cell_type": "code",
      "source": [
        "#In this exercise you will use the same dictionaries as the ones we used in the lesson - prices and quantity. This time, don't just calculate all the money Jan spent. Calculate how much she spent on products with a price of 5 dollars or more\n",
        "\n",
        "prices = {\n",
        "    \"box_of_spaghetti\" : 4,\n",
        "    \"lasagna\"  : 5,\n",
        "    \"hamburger\" : 2\n",
        "   }\n",
        "quantity = {\n",
        "    \"box_of_spaghetti\" : 6,\n",
        "    \"lasagna\"  : 10,\n",
        "    \"hamburger\" : 0\n",
        "    }\n",
        "\n",
        "money_spent = 0\n",
        "\n",
        "for i in prices:\n",
        "    if prices[i] >= 5:\n",
        "        money_spent = money_spent + (prices[i] * quantity[i])\n",
        "    else:\n",
        "        money_spent = money_spent\n",
        "print(money_spent)"
      ],
      "metadata": {
        "colab": {
          "base_uri": "https://localhost:8080/"
        },
        "id": "2CA1lxIkA5xj",
        "outputId": "371e1cee-ec8b-40da-c16d-0dadfd003953"
      },
      "execution_count": 18,
      "outputs": [
        {
          "output_type": "stream",
          "name": "stdout",
          "text": [
            "50\n"
          ]
        }
      ]
    }
  ]
}