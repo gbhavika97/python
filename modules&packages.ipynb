{
  "nbformat": 4,
  "nbformat_minor": 0,
  "metadata": {
    "colab": {
      "provenance": [],
      "authorship_tag": "ABX9TyOgmxosoFciDXQnslGXfwhm",
      "include_colab_link": true
    },
    "kernelspec": {
      "name": "python3",
      "display_name": "Python 3"
    },
    "language_info": {
      "name": "python"
    }
  },
  "cells": [
    {
      "cell_type": "markdown",
      "metadata": {
        "id": "view-in-github",
        "colab_type": "text"
      },
      "source": [
        "<a href=\"https://colab.research.google.com/github/gbhavika97/python/blob/main/modules%26packages.ipynb\" target=\"_parent\"><img src=\"https://colab.research.google.com/assets/colab-badge.svg\" alt=\"Open In Colab\"/></a>"
      ]
    },
    {
      "cell_type": "code",
      "execution_count": 1,
      "metadata": {
        "colab": {
          "base_uri": "https://localhost:8080/"
        },
        "id": "oEnysqcLN-q6",
        "outputId": "2cb08c17-2acc-4f92-fe5a-f6f713f8c570"
      },
      "outputs": [
        {
          "output_type": "execute_result",
          "data": {
            "text/plain": [
              "4.0"
            ]
          },
          "metadata": {},
          "execution_count": 1
        }
      ],
      "source": [
        "import math\n",
        "math.sqrt(16)"
      ]
    },
    {
      "cell_type": "code",
      "source": [
        "from math import sqrt,pi\n",
        "print(sqrt(16))\n",
        "print(pi)"
      ],
      "metadata": {
        "colab": {
          "base_uri": "https://localhost:8080/"
        },
        "id": "2HjR0QnROT47",
        "outputId": "c4f9ccc5-f9d2-445c-cff4-70e821d9e66e"
      },
      "execution_count": 2,
      "outputs": [
        {
          "output_type": "stream",
          "name": "stdout",
          "text": [
            "4.0\n",
            "3.141592653589793\n"
          ]
        }
      ]
    },
    {
      "cell_type": "code",
      "source": [
        "import array\n",
        "arr = array.array('i', [1,2,3,4])\n",
        "print(arr)"
      ],
      "metadata": {
        "colab": {
          "base_uri": "https://localhost:8080/"
        },
        "id": "CksbcpzvOdC_",
        "outputId": "17840b6e-f4a4-4d54-9543-43e7c4c32104"
      },
      "execution_count": 3,
      "outputs": [
        {
          "output_type": "stream",
          "name": "stdout",
          "text": [
            "array('i', [1, 2, 3, 4])\n"
          ]
        }
      ]
    },
    {
      "cell_type": "code",
      "source": [
        "import random\n",
        "print(random.randint(1,10))\n",
        "print(random.choice(['apple', 'banana', 'cherry']))"
      ],
      "metadata": {
        "colab": {
          "base_uri": "https://localhost:8080/"
        },
        "id": "5gpXfmGRPSuf",
        "outputId": "9d50766c-6a61-4a4d-d65d-87d678dd6497"
      },
      "execution_count": 5,
      "outputs": [
        {
          "output_type": "stream",
          "name": "stdout",
          "text": [
            "1\n",
            "banana\n"
          ]
        }
      ]
    },
    {
      "cell_type": "code",
      "source": [
        "import json\n",
        "data = {'name': 'John', 'age': 23}\n",
        "json_str = json.dumps(data)\n",
        "print(json_str)\n",
        "print(type(json_str))\n",
        "\n",
        "parsed_data = json.loads(json_str)\n",
        "print(parsed_data)\n",
        "print(type(parsed_data))"
      ],
      "metadata": {
        "colab": {
          "base_uri": "https://localhost:8080/"
        },
        "id": "DpC6H9EHQK7q",
        "outputId": "07a8a43e-aed2-4a7a-c12a-fc83e526a32b"
      },
      "execution_count": 6,
      "outputs": [
        {
          "output_type": "stream",
          "name": "stdout",
          "text": [
            "{\"name\": \"John\", \"age\": 23}\n",
            "<class 'str'>\n",
            "{'name': 'John', 'age': 23}\n",
            "<class 'dict'>\n"
          ]
        }
      ]
    },
    {
      "cell_type": "code",
      "source": [
        "import csv\n",
        "\n",
        "with open('example.csv', mode = 'w', newline = '') as file:\n",
        "  writer = csv.writer(file)\n",
        "  writer.writerow(['name', 'age'])\n",
        "  writer.writerow(['John', 23])\n",
        "\n",
        "with open('example.csv', mode = 'r') as file:\n",
        "  reader = csv.reader(file)\n",
        "  for row in reader:\n",
        "    print(row)"
      ],
      "metadata": {
        "colab": {
          "base_uri": "https://localhost:8080/"
        },
        "id": "W7FE5ez9Q8RU",
        "outputId": "3dd65294-70f3-4424-8233-bbcfe84a52f2"
      },
      "execution_count": 7,
      "outputs": [
        {
          "output_type": "stream",
          "name": "stdout",
          "text": [
            "['name', 'age']\n",
            "['John', '23']\n"
          ]
        }
      ]
    },
    {
      "cell_type": "code",
      "source": [
        "#datetime\n",
        "\n",
        "from datetime import datetime, timedelta\n",
        "\n",
        "now = datetime.now()\n",
        "print(print(now))\n",
        "\n",
        "yesterday = now-timedelta(days=1)\n",
        "print(yesterday)\n"
      ],
      "metadata": {
        "colab": {
          "base_uri": "https://localhost:8080/"
        },
        "id": "0oiDKScoSFB4",
        "outputId": "cd785ed3-44fe-423f-de78-de9607745656"
      },
      "execution_count": 8,
      "outputs": [
        {
          "output_type": "stream",
          "name": "stdout",
          "text": [
            "2025-09-20 18:01:34.534267\n",
            "None\n",
            "2025-09-19 18:01:34.534267\n"
          ]
        }
      ]
    },
    {
      "cell_type": "code",
      "source": [
        "#time\n",
        "\n",
        "import time\n",
        "print(time.time())\n",
        "time.sleep(20)\n",
        "print(time.time())"
      ],
      "metadata": {
        "colab": {
          "base_uri": "https://localhost:8080/"
        },
        "id": "ccYJjPG8Si5l",
        "outputId": "70e7e19e-3e71-405d-e2b4-661169c5cd7f"
      },
      "execution_count": 9,
      "outputs": [
        {
          "output_type": "stream",
          "name": "stdout",
          "text": [
            "1758391386.906791\n",
            "1758391406.9084022\n"
          ]
        }
      ]
    },
    {
      "cell_type": "code",
      "source": [
        "#Regularization\n",
        "\n",
        "import re\n",
        "\n",
        "pattern = r'\\d+'\n",
        "text = 'There are 365 days'\n",
        "match = re.search(pattern,text)\n",
        "print(match.group())"
      ],
      "metadata": {
        "colab": {
          "base_uri": "https://localhost:8080/"
        },
        "id": "dMMv2EnIS5yn",
        "outputId": "9b0f8ea7-85c6-43bc-d43a-f842d5804f90"
      },
      "execution_count": 11,
      "outputs": [
        {
          "output_type": "stream",
          "name": "stdout",
          "text": [
            "365\n"
          ]
        }
      ]
    }
  ]
}