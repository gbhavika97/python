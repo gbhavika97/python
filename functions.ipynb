{
  "nbformat": 4,
  "nbformat_minor": 0,
  "metadata": {
    "colab": {
      "provenance": [],
      "authorship_tag": "ABX9TyNAaao0yQcBOC65M0RWk8gx",
      "include_colab_link": true
    },
    "kernelspec": {
      "name": "python3",
      "display_name": "Python 3"
    },
    "language_info": {
      "name": "python"
    }
  },
  "cells": [
    {
      "cell_type": "markdown",
      "metadata": {
        "id": "view-in-github",
        "colab_type": "text"
      },
      "source": [
        "<a href=\"https://colab.research.google.com/github/gbhavika97/python/blob/main/functions.ipynb\" target=\"_parent\"><img src=\"https://colab.research.google.com/assets/colab-badge.svg\" alt=\"Open In Colab\"/></a>"
      ]
    },
    {
      "cell_type": "code",
      "execution_count": 2,
      "metadata": {
        "colab": {
          "base_uri": "https://localhost:8080/"
        },
        "id": "5KhXTN5T7IJb",
        "outputId": "fc66854d-7884-4cc2-cfa0-e69540e60900"
      },
      "outputs": [
        {
          "output_type": "stream",
          "name": "stdout",
          "text": [
            "Hello World\n"
          ]
        }
      ],
      "source": [
        "def my_function():\n",
        "  print(\"Hello World\")\n",
        "\n",
        "my_function()"
      ]
    },
    {
      "cell_type": "code",
      "source": [
        "def my_function(fname):\n",
        "  print(fname + \" walter\")\n",
        "\n",
        "my_function(\"Cole\")\n",
        "my_function(\"Alex\")"
      ],
      "metadata": {
        "colab": {
          "base_uri": "https://localhost:8080/"
        },
        "id": "wu0FeyvH7mOR",
        "outputId": "4543e231-3740-4105-a02d-a32999b34d1a"
      },
      "execution_count": 3,
      "outputs": [
        {
          "output_type": "stream",
          "name": "stdout",
          "text": [
            "Cole walter\n",
            "Alex walter\n"
          ]
        }
      ]
    },
    {
      "cell_type": "code",
      "source": [
        "def my_function(fname, lname):\n",
        "  print(fname + \"\" + lname)\n",
        "\n",
        "my_function(\"Owen\", \"Cooper\")"
      ],
      "metadata": {
        "colab": {
          "base_uri": "https://localhost:8080/"
        },
        "id": "0cJxKDKz8_xm",
        "outputId": "9db2a24e-0e46-4227-ec43-f6302d172e04"
      },
      "execution_count": 5,
      "outputs": [
        {
          "output_type": "stream",
          "name": "stdout",
          "text": [
            "OwenCooper\n"
          ]
        }
      ]
    },
    {
      "cell_type": "code",
      "source": [
        "def my_function(*kids):\n",
        "  print(\"The youngest child is \" + kids[2])\n",
        "\n",
        "my_function(\"Emily\", \"Judy\", \"John\")\n"
      ],
      "metadata": {
        "colab": {
          "base_uri": "https://localhost:8080/"
        },
        "id": "q2hcLt3A9jSu",
        "outputId": "20a48b4d-97cd-4b1f-fbf6-601cfe7a87a9"
      },
      "execution_count": 6,
      "outputs": [
        {
          "output_type": "stream",
          "name": "stdout",
          "text": [
            "The youngest child is John\n"
          ]
        }
      ]
    },
    {
      "cell_type": "code",
      "source": [
        "def my_function(child3, child2, child1):\n",
        "  print(\"The youngest child is \" + child3)\n",
        "\n",
        "my_function(child1 = \"Emily\", child2 = \"John\", child3 = \"Steve\")"
      ],
      "metadata": {
        "colab": {
          "base_uri": "https://localhost:8080/"
        },
        "id": "CtiZPvJk_t7T",
        "outputId": "271cb34b-a843-4d46-dcb2-e03105a6c57b"
      },
      "execution_count": 7,
      "outputs": [
        {
          "output_type": "stream",
          "name": "stdout",
          "text": [
            "The youngest child is Steve\n"
          ]
        }
      ]
    },
    {
      "cell_type": "code",
      "source": [
        "def my_function(**kid):\n",
        "  print(\"His last name is \" + kid[\"lname\"])\n",
        "\n",
        "my_function(fname = \"Nancy\", lname = \"Wheeler\")"
      ],
      "metadata": {
        "colab": {
          "base_uri": "https://localhost:8080/"
        },
        "id": "o61I1VHVAPNw",
        "outputId": "95699db8-bc2e-41a3-e6a0-29d31e730e08"
      },
      "execution_count": 8,
      "outputs": [
        {
          "output_type": "stream",
          "name": "stdout",
          "text": [
            "His last name is Wheeler\n"
          ]
        }
      ]
    },
    {
      "cell_type": "code",
      "source": [
        "def my_function(country = \"India\"):\n",
        "  print(\"I am from \" + country)\n",
        "\n",
        "my_function(\"Norway\")\n",
        "my_function(\"Germany\")\n",
        "my_function()"
      ],
      "metadata": {
        "colab": {
          "base_uri": "https://localhost:8080/"
        },
        "id": "qVTrU5PfA0bu",
        "outputId": "db6229d5-0b1f-40b8-ebe3-9a5f154c0109"
      },
      "execution_count": 9,
      "outputs": [
        {
          "output_type": "stream",
          "name": "stdout",
          "text": [
            "I am from Norway\n",
            "I am from Germany\n",
            "I am from India\n"
          ]
        }
      ]
    },
    {
      "cell_type": "code",
      "source": [
        "def my_function(fruits):\n",
        "  for x in fruits:\n",
        "    print(x)\n",
        "\n",
        "fruits = [\"apple\", \"banana\", \"cherry\"]\n",
        "my_function(fruits)"
      ],
      "metadata": {
        "colab": {
          "base_uri": "https://localhost:8080/"
        },
        "id": "ebesNoshBT6S",
        "outputId": "a1aaf8ac-ce49-4893-8f6c-855e372b35b1"
      },
      "execution_count": 14,
      "outputs": [
        {
          "output_type": "stream",
          "name": "stdout",
          "text": [
            "apple\n",
            "banana\n",
            "cherry\n"
          ]
        }
      ]
    },
    {
      "cell_type": "code",
      "source": [
        "def my_function(x):\n",
        "  return 5 * x\n",
        "\n",
        "print(my_function(5))\n",
        "print(my_function(10))"
      ],
      "metadata": {
        "colab": {
          "base_uri": "https://localhost:8080/"
        },
        "id": "sbSI8QenCAXA",
        "outputId": "e40ff564-18b6-4a41-fb01-3e02e5d191a4"
      },
      "execution_count": 16,
      "outputs": [
        {
          "output_type": "stream",
          "name": "stdout",
          "text": [
            "25\n",
            "50\n"
          ]
        }
      ]
    },
    {
      "cell_type": "code",
      "source": [
        "def my_function(x, /):\n",
        "  print(x)\n",
        "\n",
        "my_function(3)\n",
        "\n",
        "\n",
        "def my_function(x):\n",
        "  print(x)\n",
        "\n",
        "my_function(x = 3)\n",
        "\n",
        "\n",
        "#To specify that a function can only have keyword arguments\n",
        "def my_function(*,x):\n",
        "  print(x)\n",
        "\n",
        "my_function(x = 3)\n",
        "\n",
        "#Without the *, you are allowed to use positional arguments even if the function expects keyword arguments:\n",
        "\n",
        "def my_function(x):\n",
        "  print(x)\n",
        "\n",
        "my_function(3)\n",
        "\n",
        "\n",
        "def my_function(a, b, /, *, c, d):\n",
        "  print(a+b+c+d)\n",
        "\n",
        "my_function(5, 6, c = 7, d = 8)"
      ],
      "metadata": {
        "colab": {
          "base_uri": "https://localhost:8080/"
        },
        "id": "WMQSJdleCeM6",
        "outputId": "d2c18b39-6005-4444-817e-29f097418127"
      },
      "execution_count": 19,
      "outputs": [
        {
          "output_type": "stream",
          "name": "stdout",
          "text": [
            "3\n",
            "3\n",
            "3\n",
            "3\n",
            "26\n"
          ]
        }
      ]
    }
  ]
}