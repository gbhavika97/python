{
  "nbformat": 4,
  "nbformat_minor": 0,
  "metadata": {
    "colab": {
      "provenance": [],
      "authorship_tag": "ABX9TyOQ9c+kZAn3MBtTMQjHI/2p",
      "include_colab_link": true
    },
    "kernelspec": {
      "name": "python3",
      "display_name": "Python 3"
    },
    "language_info": {
      "name": "python"
    }
  },
  "cells": [
    {
      "cell_type": "markdown",
      "metadata": {
        "id": "view-in-github",
        "colab_type": "text"
      },
      "source": [
        "<a href=\"https://colab.research.google.com/github/gbhavika97/python/blob/main/practice.ipynb\" target=\"_parent\"><img src=\"https://colab.research.google.com/assets/colab-badge.svg\" alt=\"Open In Colab\"/></a>"
      ]
    },
    {
      "cell_type": "code",
      "execution_count": 1,
      "metadata": {
        "colab": {
          "base_uri": "https://localhost:8080/"
        },
        "id": "N6jgVl5Pcu3P",
        "outputId": "537119af-43da-4cc6-ff05-dc62c5489f1e"
      },
      "outputs": [
        {
          "output_type": "stream",
          "name": "stdout",
          "text": [
            "21\n"
          ]
        }
      ],
      "source": [
        "#python function that calculates the sum of all elements in a list\n",
        "def sum_list(numbers):\n",
        "    sum = 0\n",
        "    for i in range(len(numbers)):\n",
        "        sum = sum+numbers[i]\n",
        "    return sum\n",
        "\n",
        "numbers = [1,2,3,4,5,6]\n",
        "print(sum_list(numbers))"
      ]
    },
    {
      "cell_type": "code",
      "source": [
        "#python function to find the largest element in a list\n",
        "def find_largest(numbers):\n",
        "    return max(numbers)\n",
        "\n",
        "numbers = [2,4,6,8,10]\n",
        "print(find_largest(numbers))"
      ],
      "metadata": {
        "colab": {
          "base_uri": "https://localhost:8080/"
        },
        "id": "IMDvEOJ-dEfj",
        "outputId": "c1f5251e-865e-4e25-e26b-d1cd998865f1"
      },
      "execution_count": 2,
      "outputs": [
        {
          "output_type": "stream",
          "name": "stdout",
          "text": [
            "10\n"
          ]
        }
      ]
    },
    {
      "cell_type": "code",
      "source": [
        "#python function to remove duplicates elements in a list and return new list with unique elements\n",
        "def remove_duplicates(lst):\n",
        "    unique = []\n",
        "    for num in lst:\n",
        "        if num not in unique:\n",
        "            unique.append(num)\n",
        "    return unique\n",
        "\n",
        "\n",
        "print(remove_duplicates([1,1,2,3,3,4,5]))"
      ],
      "metadata": {
        "colab": {
          "base_uri": "https://localhost:8080/"
        },
        "id": "WcH1rg-ndR1u",
        "outputId": "b053a5a8-564f-40e0-b7b5-7aa8f210fee6"
      },
      "execution_count": 3,
      "outputs": [
        {
          "output_type": "stream",
          "name": "stdout",
          "text": [
            "[1, 2, 3, 4, 5]\n"
          ]
        }
      ]
    }
  ]
}