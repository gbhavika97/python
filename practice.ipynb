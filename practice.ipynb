{
  "nbformat": 4,
  "nbformat_minor": 0,
  "metadata": {
    "colab": {
      "provenance": [],
      "authorship_tag": "ABX9TyOWroonCy6a5SJoIljzf8pP",
      "include_colab_link": true
    },
    "kernelspec": {
      "name": "python3",
      "display_name": "Python 3"
    },
    "language_info": {
      "name": "python"
    }
  },
  "cells": [
    {
      "cell_type": "markdown",
      "metadata": {
        "id": "view-in-github",
        "colab_type": "text"
      },
      "source": [
        "<a href=\"https://colab.research.google.com/github/gbhavika97/python/blob/main/practice.ipynb\" target=\"_parent\"><img src=\"https://colab.research.google.com/assets/colab-badge.svg\" alt=\"Open In Colab\"/></a>"
      ]
    },
    {
      "cell_type": "code",
      "execution_count": null,
      "metadata": {
        "colab": {
          "base_uri": "https://localhost:8080/"
        },
        "id": "N6jgVl5Pcu3P",
        "outputId": "537119af-43da-4cc6-ff05-dc62c5489f1e"
      },
      "outputs": [
        {
          "output_type": "stream",
          "name": "stdout",
          "text": [
            "21\n"
          ]
        }
      ],
      "source": [
        "#python function that calculates the sum of all elements in a list\n",
        "def sum_list(numbers):\n",
        "    sum = 0\n",
        "    for i in range(len(numbers)):\n",
        "        sum = sum+numbers[i]\n",
        "    return sum\n",
        "\n",
        "numbers = [1,2,3,4,5,6]\n",
        "print(sum_list(numbers))"
      ]
    },
    {
      "cell_type": "code",
      "source": [
        "#python function to find the largest element in a list\n",
        "def find_largest(numbers):\n",
        "    return max(numbers)\n",
        "\n",
        "numbers = [2,4,6,8,10]\n",
        "print(find_largest(numbers))"
      ],
      "metadata": {
        "colab": {
          "base_uri": "https://localhost:8080/"
        },
        "id": "IMDvEOJ-dEfj",
        "outputId": "c1f5251e-865e-4e25-e26b-d1cd998865f1"
      },
      "execution_count": null,
      "outputs": [
        {
          "output_type": "stream",
          "name": "stdout",
          "text": [
            "10\n"
          ]
        }
      ]
    },
    {
      "cell_type": "code",
      "source": [
        "#python function to remove duplicates elements in a list and return new list with unique elements\n",
        "def remove_duplicates(lst):\n",
        "    unique = []\n",
        "    for num in lst:\n",
        "        if num not in unique:\n",
        "            unique.append(num)\n",
        "    return unique\n",
        "\n",
        "\n",
        "print(remove_duplicates([1,1,2,3,3,4,5]))"
      ],
      "metadata": {
        "colab": {
          "base_uri": "https://localhost:8080/"
        },
        "id": "WcH1rg-ndR1u",
        "outputId": "b053a5a8-564f-40e0-b7b5-7aa8f210fee6"
      },
      "execution_count": null,
      "outputs": [
        {
          "output_type": "stream",
          "name": "stdout",
          "text": [
            "[1, 2, 3, 4, 5]\n"
          ]
        }
      ]
    },
    {
      "cell_type": "code",
      "source": [
        "#python function to check if all the elements in a list are unique\n",
        "\n",
        "def check_unique(lst):\n",
        "  if len(lst) > len(set(lst)):\n",
        "    return False\n",
        "  else:\n",
        "    return True\n",
        "\n",
        "lst = [1,2,3,4,5,6]\n",
        "print(check_unique(lst))\n",
        "\n",
        "\n",
        "def check_unique(lst):\n",
        "  seen = set()\n",
        "\n",
        "  for num in lst:\n",
        "    if num in seen:\n",
        "      return False\n",
        "    seen.add(num)\n",
        "  return True\n",
        "\n",
        "lst = [1,2,3,4,4,5,5,6]\n",
        "print(check_unique(lst))"
      ],
      "metadata": {
        "colab": {
          "base_uri": "https://localhost:8080/"
        },
        "id": "uNLpfJVMu2BZ",
        "outputId": "726b2fc0-b66f-4dd6-bbfb-d6380f954a19"
      },
      "execution_count": 2,
      "outputs": [
        {
          "output_type": "stream",
          "name": "stdout",
          "text": [
            "True\n",
            "False\n"
          ]
        }
      ]
    },
    {
      "cell_type": "code",
      "source": [
        "#python function to reverse a list\n",
        "\n",
        "def reverse_list(lst):\n",
        "  reversed_num = list(reversed(lst))\n",
        "  return reversed_num\n",
        "\n",
        "lst = [1,2,3,4,5]\n",
        "print(reverse_list(lst))"
      ],
      "metadata": {
        "colab": {
          "base_uri": "https://localhost:8080/"
        },
        "id": "uJZT-a34xyvq",
        "outputId": "e051518a-ffb8-40da-c98c-679dae0f73a9"
      },
      "execution_count": 3,
      "outputs": [
        {
          "output_type": "stream",
          "name": "stdout",
          "text": [
            "[5, 4, 3, 2, 1]\n"
          ]
        }
      ]
    },
    {
      "cell_type": "code",
      "source": [
        "#python function to reverse the elements in a list\n",
        "\n",
        "def reverse_list(lst):\n",
        "    reversed_num = list(reversed(lst))\n",
        "    return reversed_num\n",
        "\n",
        "lst = [1,2,3,4,5,6]\n",
        "print(reverse_list(lst))"
      ],
      "metadata": {
        "colab": {
          "base_uri": "https://localhost:8080/"
        },
        "id": "ULVnEvx465AF",
        "outputId": "6a091d78-5eee-42ac-a114-6dcc9db6e5b4"
      },
      "execution_count": 4,
      "outputs": [
        {
          "output_type": "stream",
          "name": "stdout",
          "text": [
            "[6, 5, 4, 3, 2, 1]\n"
          ]
        }
      ]
    },
    {
      "cell_type": "code",
      "source": [
        "#python function that counts and returns the number of odd and even numbers in a list\n",
        "\n",
        "def count_even_odd(lst):\n",
        "  count_odd = 0\n",
        "  count_even = 0\n",
        "  for num in lst:\n",
        "    if num%2 == 0:\n",
        "      count_even += 1\n",
        "    else:\n",
        "      count_odd += 1\n",
        "\n",
        "  return count_even, count_odd\n",
        "\n",
        "lst = [2,3,4,5,6]\n",
        "a = count_even_odd(lst)\n",
        "print(a[0], a[1])"
      ],
      "metadata": {
        "colab": {
          "base_uri": "https://localhost:8080/"
        },
        "id": "6jhlAeiv7IFH",
        "outputId": "8b282807-c2bd-427b-9635-ea9cb175a6c6"
      },
      "execution_count": 7,
      "outputs": [
        {
          "output_type": "stream",
          "name": "stdout",
          "text": [
            "3 2\n"
          ]
        }
      ]
    }
  ]
}