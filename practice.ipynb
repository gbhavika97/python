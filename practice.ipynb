{
  "nbformat": 4,
  "nbformat_minor": 0,
  "metadata": {
    "colab": {
      "provenance": [],
      "authorship_tag": "ABX9TyOzkWxhunEuTILlG09pHO07",
      "include_colab_link": true
    },
    "kernelspec": {
      "name": "python3",
      "display_name": "Python 3"
    },
    "language_info": {
      "name": "python"
    }
  },
  "cells": [
    {
      "cell_type": "markdown",
      "metadata": {
        "id": "view-in-github",
        "colab_type": "text"
      },
      "source": [
        "<a href=\"https://colab.research.google.com/github/gbhavika97/python/blob/main/practice.ipynb\" target=\"_parent\"><img src=\"https://colab.research.google.com/assets/colab-badge.svg\" alt=\"Open In Colab\"/></a>"
      ]
    },
    {
      "cell_type": "code",
      "execution_count": null,
      "metadata": {
        "colab": {
          "base_uri": "https://localhost:8080/"
        },
        "id": "N6jgVl5Pcu3P",
        "outputId": "537119af-43da-4cc6-ff05-dc62c5489f1e"
      },
      "outputs": [
        {
          "output_type": "stream",
          "name": "stdout",
          "text": [
            "21\n"
          ]
        }
      ],
      "source": [
        "#python function that calculates the sum of all elements in a list\n",
        "def sum_list(numbers):\n",
        "    sum = 0\n",
        "    for i in range(len(numbers)):\n",
        "        sum = sum+numbers[i]\n",
        "    return sum\n",
        "\n",
        "numbers = [1,2,3,4,5,6]\n",
        "print(sum_list(numbers))"
      ]
    },
    {
      "cell_type": "code",
      "source": [
        "#python function to find the largest element in a list\n",
        "def find_largest(numbers):\n",
        "    return max(numbers)\n",
        "\n",
        "numbers = [2,4,6,8,10]\n",
        "print(find_largest(numbers))"
      ],
      "metadata": {
        "colab": {
          "base_uri": "https://localhost:8080/"
        },
        "id": "IMDvEOJ-dEfj",
        "outputId": "c1f5251e-865e-4e25-e26b-d1cd998865f1"
      },
      "execution_count": null,
      "outputs": [
        {
          "output_type": "stream",
          "name": "stdout",
          "text": [
            "10\n"
          ]
        }
      ]
    },
    {
      "cell_type": "code",
      "source": [
        "#python function to remove duplicates elements in a list and return new list with unique elements\n",
        "def remove_duplicates(lst):\n",
        "    unique = []\n",
        "    for num in lst:\n",
        "        if num not in unique:\n",
        "            unique.append(num)\n",
        "    return unique\n",
        "\n",
        "\n",
        "print(remove_duplicates([1,1,2,3,3,4,5]))"
      ],
      "metadata": {
        "colab": {
          "base_uri": "https://localhost:8080/"
        },
        "id": "WcH1rg-ndR1u",
        "outputId": "b053a5a8-564f-40e0-b7b5-7aa8f210fee6"
      },
      "execution_count": null,
      "outputs": [
        {
          "output_type": "stream",
          "name": "stdout",
          "text": [
            "[1, 2, 3, 4, 5]\n"
          ]
        }
      ]
    },
    {
      "cell_type": "code",
      "source": [
        "#python function to check if all the elements in a list are unique\n",
        "\n",
        "def check_unique(lst):\n",
        "  if len(lst) > len(set(lst)):\n",
        "    return False\n",
        "  else:\n",
        "    return True\n",
        "\n",
        "lst = [1,2,3,4,5,6]\n",
        "print(check_unique(lst))\n",
        "\n",
        "\n",
        "def check_unique(lst):\n",
        "  seen = set()\n",
        "\n",
        "  for num in lst:\n",
        "    if num in seen:\n",
        "      return False\n",
        "    seen.add(num)\n",
        "  return True\n",
        "\n",
        "lst = [1,2,3,4,4,5,5,6]\n",
        "print(check_unique(lst))"
      ],
      "metadata": {
        "colab": {
          "base_uri": "https://localhost:8080/"
        },
        "id": "uNLpfJVMu2BZ",
        "outputId": "726b2fc0-b66f-4dd6-bbfb-d6380f954a19"
      },
      "execution_count": null,
      "outputs": [
        {
          "output_type": "stream",
          "name": "stdout",
          "text": [
            "True\n",
            "False\n"
          ]
        }
      ]
    },
    {
      "cell_type": "code",
      "source": [
        "#python function to reverse a list\n",
        "\n",
        "def reverse_list(lst):\n",
        "  reversed_num = list(reversed(lst))\n",
        "  return reversed_num\n",
        "\n",
        "lst = [1,2,3,4,5]\n",
        "print(reverse_list(lst))"
      ],
      "metadata": {
        "colab": {
          "base_uri": "https://localhost:8080/"
        },
        "id": "uJZT-a34xyvq",
        "outputId": "e051518a-ffb8-40da-c98c-679dae0f73a9"
      },
      "execution_count": null,
      "outputs": [
        {
          "output_type": "stream",
          "name": "stdout",
          "text": [
            "[5, 4, 3, 2, 1]\n"
          ]
        }
      ]
    },
    {
      "cell_type": "code",
      "source": [
        "#python function to reverse the elements in a list\n",
        "\n",
        "def reverse_list(lst):\n",
        "    reversed_num = list(reversed(lst))\n",
        "    return reversed_num\n",
        "\n",
        "lst = [1,2,3,4,5,6]\n",
        "print(reverse_list(lst))"
      ],
      "metadata": {
        "colab": {
          "base_uri": "https://localhost:8080/"
        },
        "id": "ULVnEvx465AF",
        "outputId": "6a091d78-5eee-42ac-a114-6dcc9db6e5b4"
      },
      "execution_count": null,
      "outputs": [
        {
          "output_type": "stream",
          "name": "stdout",
          "text": [
            "[6, 5, 4, 3, 2, 1]\n"
          ]
        }
      ]
    },
    {
      "cell_type": "code",
      "source": [
        "#python function that counts and returns the number of odd and even numbers in a list\n",
        "\n",
        "def count_even_odd(lst):\n",
        "  count_odd = 0\n",
        "  count_even = 0\n",
        "  for num in lst:\n",
        "    if num%2 == 0:\n",
        "      count_even += 1\n",
        "    else:\n",
        "      count_odd += 1\n",
        "\n",
        "  return count_even, count_odd\n",
        "\n",
        "lst = [2,3,4,5,6]\n",
        "a = count_even_odd(lst)\n",
        "print(a[0], a[1])"
      ],
      "metadata": {
        "colab": {
          "base_uri": "https://localhost:8080/"
        },
        "id": "6jhlAeiv7IFH",
        "outputId": "8b282807-c2bd-427b-9635-ea9cb175a6c6"
      },
      "execution_count": null,
      "outputs": [
        {
          "output_type": "stream",
          "name": "stdout",
          "text": [
            "3 2\n"
          ]
        }
      ]
    },
    {
      "cell_type": "code",
      "source": [
        "#python function to calculate and return the sum of first n even natural numbers\n",
        "\n",
        "def sum_even_numbers(n):\n",
        "  sum = 0\n",
        "  count = 2\n",
        "  for i in range(n):\n",
        "      sum += count\n",
        "      count += 2\n",
        "  return sum\n",
        "\n",
        "print(sum_even_numbers(4))"
      ],
      "metadata": {
        "colab": {
          "base_uri": "https://localhost:8080/"
        },
        "id": "O_8EpTrFUDd8",
        "outputId": "bda52a17-a376-49ad-9298-f693de48c090"
      },
      "execution_count": null,
      "outputs": [
        {
          "output_type": "stream",
          "name": "stdout",
          "text": [
            "20\n"
          ]
        }
      ]
    },
    {
      "cell_type": "code",
      "source": [
        "#Check whether the number is even or not\n",
        "def is_even(n):\n",
        "  if n%2 == 0:\n",
        "    return True\n",
        "  else:\n",
        "    return False\n",
        "\n",
        "print(is_even(4))"
      ],
      "metadata": {
        "colab": {
          "base_uri": "https://localhost:8080/"
        },
        "id": "bZkHeCb_WFb8",
        "outputId": "81e0b7a1-2292-4441-c4fc-f8e7e452fd44"
      },
      "execution_count": null,
      "outputs": [
        {
          "output_type": "stream",
          "name": "stdout",
          "text": [
            "True\n"
          ]
        }
      ]
    },
    {
      "cell_type": "code",
      "source": [
        "#Check for prime number\n",
        "def is_prime(n):\n",
        "  if n <= 1:\n",
        "    return False\n",
        "  if n == 2:\n",
        "    return True\n",
        "  if n%2 == 0:\n",
        "    return False\n",
        "  i = 3\n",
        "  while i * i <= n:\n",
        "    if n * i == 0:\n",
        "      return False\n",
        "    i += 2\n",
        "  return True\n",
        "\n",
        "print(is_prime(3))\n"
      ],
      "metadata": {
        "colab": {
          "base_uri": "https://localhost:8080/"
        },
        "id": "t4pXv-FuwTCf",
        "outputId": "7c0a5324-e65f-41e9-f871-7e495d0a7516"
      },
      "execution_count": null,
      "outputs": [
        {
          "output_type": "stream",
          "name": "stdout",
          "text": [
            "True\n"
          ]
        }
      ]
    },
    {
      "cell_type": "code",
      "source": [
        "#Check whether a number is a perfect square root or not\n",
        "def is_perfect_square(num):\n",
        "  i = 1\n",
        "  while i * i <= num:\n",
        "    if i * i == num:\n",
        "      return True\n",
        "    i += 1\n",
        "  return False\n",
        "\n",
        "print(is_perfect_square(25))"
      ],
      "metadata": {
        "colab": {
          "base_uri": "https://localhost:8080/"
        },
        "id": "izh10iRH34Yl",
        "outputId": "7cbd4d2d-dfe3-49da-a886-6ab07953be0f"
      },
      "execution_count": null,
      "outputs": [
        {
          "output_type": "stream",
          "name": "stdout",
          "text": [
            "True\n"
          ]
        }
      ]
    },
    {
      "cell_type": "code",
      "source": [
        "#python function to to count the frequency of words in a sentence and store the counts in a dictionary\n",
        "\n",
        "def count_word_frequency(sentence):\n",
        "  word_count = {}\n",
        "  words = sentence.split()\n",
        "  for word in words:\n",
        "    if word in word_count:\n",
        "      word_count[word] += 1\n",
        "    else:\n",
        "      word_count[word] = 1\n",
        "  return word_count\n",
        "\n",
        "print(count_word_frequency(\"The man is sitting under the tree and is eating\"))"
      ],
      "metadata": {
        "colab": {
          "base_uri": "https://localhost:8080/"
        },
        "id": "sZ6sDuPDN_PP",
        "outputId": "30461c1f-6b6f-4c72-d490-1b677858645d"
      },
      "execution_count": 1,
      "outputs": [
        {
          "output_type": "stream",
          "name": "stdout",
          "text": [
            "{'The': 1, 'man': 1, 'is': 2, 'sitting': 1, 'under': 1, 'the': 1, 'tree': 1, 'and': 1, 'eating': 1}\n"
          ]
        }
      ]
    },
    {
      "cell_type": "code",
      "source": [
        "#python function to check if a tuple is a palindrome or not\n",
        "\n",
        "def is_palindromic_tuple(tup):\n",
        "  if len(tup) < 2:\n",
        "    return True\n",
        "  elif tup[0] != tup[-1]:\n",
        "    return False\n",
        "  else:\n",
        "    return is_palindromic_tuple(tup[1:-1])\n",
        "\n",
        "tup = ('a', 'b', 'a')\n",
        "print(is_palindromic_tuple(tup))\n",
        "\n",
        "\n",
        "def is_palindromic_tuple(tup):\n",
        "  start = 0\n",
        "  end = len(tup) - 1\n",
        "\n",
        "  while start <= end:\n",
        "    if tup[start] != tup[end]:\n",
        "      return False\n",
        "    start += 1\n",
        "    end -= 1\n",
        "  return True\n",
        "\n",
        "tup = ('a', 'b', 'c')\n",
        "print(is_palindromic_tuple(tup))"
      ],
      "metadata": {
        "colab": {
          "base_uri": "https://localhost:8080/"
        },
        "id": "bt8rR3TgTW2n",
        "outputId": "98582676-8191-4c3f-f1e5-d5362f768c79"
      },
      "execution_count": 4,
      "outputs": [
        {
          "output_type": "stream",
          "name": "stdout",
          "text": [
            "True\n",
            "False\n"
          ]
        }
      ]
    },
    {
      "cell_type": "code",
      "source": [
        "#python function to check if a list is subset of other list\n",
        "\n",
        "def is_subset(lst1, lst2):\n",
        "  for elem in lst1:\n",
        "    if elem not in lst2:\n",
        "      return False\n",
        "  return True\n",
        "\n",
        "lst1 = [1,2,3]\n",
        "lst2 = [1,2,3,4,5]\n",
        "print(is_subset(lst1, lst2))"
      ],
      "metadata": {
        "colab": {
          "base_uri": "https://localhost:8080/"
        },
        "id": "VWiN1MUuWe5a",
        "outputId": "0dbec47b-4032-4197-d532-e57d401cbf19"
      },
      "execution_count": 5,
      "outputs": [
        {
          "output_type": "stream",
          "name": "stdout",
          "text": [
            "True\n"
          ]
        }
      ]
    },
    {
      "cell_type": "code",
      "source": [
        "#python function to Find Maximum Difference Between Two Consecutive Elements (Brute Force Approach)\n",
        "\n",
        "def max_consecutive_difference(lst):\n",
        "  if len(lst) < 2:\n",
        "    return 0\n",
        "\n",
        "  max_diff = float(\"-inf\")\n",
        "\n",
        "  for i in range(len(lst)-1):\n",
        "    diff = abs(lst[i+1]-lst[i])\n",
        "    if diff > max_diff:\n",
        "      max_diff = diff\n",
        "  return max_diff\n",
        "\n",
        "lst = [1,3,5,6,7,9,15]\n",
        "print(max_consecutive_difference(lst))"
      ],
      "metadata": {
        "colab": {
          "base_uri": "https://localhost:8080/"
        },
        "id": "XEn1rky8YcNd",
        "outputId": "66f19786-2ded-499a-cfe5-647b66827d63"
      },
      "execution_count": 6,
      "outputs": [
        {
          "output_type": "stream",
          "name": "stdout",
          "text": [
            "6\n"
          ]
        }
      ]
    }
  ]
}